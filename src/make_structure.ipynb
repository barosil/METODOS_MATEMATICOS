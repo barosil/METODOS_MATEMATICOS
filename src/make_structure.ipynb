{
 "cells": [
  {
   "cell_type": "code",
   "execution_count": null,
   "id": "c0e0e5ca",
   "metadata": {},
   "outputs": [],
   "source": [
    "import yaml\n",
    "from pathlib import Path\n",
    "structure_file = \"../data/structure.yaml\""
   ]
  },
  {
   "cell_type": "code",
   "execution_count": null,
   "id": "004af37b",
   "metadata": {},
   "outputs": [],
   "source": [
    "def criar_estrutura(livro: list, base_dir: str = \".\"):\n",
    "    \"\"\"\n",
    "    Cria uma estrutura de diretórios e arquivos markdown a partir de uma lista de capítulos (YAML carregado).\n",
    "    \n",
    "    Args:\n",
    "        livro: Lista contendo os capítulos e seções.\n",
    "        base_dir: Diretório base onde a estrutura será criada.\n",
    "    \"\"\"\n",
    "    \n",
    "    def criar_stub(caminho_arquivo: str, titulo: str, nivel: int):\n",
    "        \"\"\"Cria um arquivo markdown stub com um título no nível adequado.\"\"\"\n",
    "        with open(caminho_arquivo, \"w\", encoding=\"utf-8\") as f:\n",
    "            f.write(f\"{'#' * nivel} {titulo}\\n\\n\")\n",
    "            f.write(\"*este é um stub*\\n\")\n",
    "    \n",
    "    def processar_nivel(nivel: int, itens: list, prefixo: str = \"CAP\", caminho_atual: str = base_dir):\n",
    "        \n",
    "        for i, item in enumerate(itens, start=1):\n",
    "            if isinstance(item, dict):\n",
    "                for titulo, subitens in item.items():\n",
    "                    id_pasta = f\"{prefixo}_{i:02}\"\n",
    "                    caminho_pasta = Path(caminho_atual) / id_pasta\n",
    "                    Path(caminho_pasta).mkdir(exist_ok=True)\n",
    "                    quadro_cap = Path(caminho_pasta) / f\"{caminho_pasta.name}_QUADROS\"\n",
    "                    Path(quadro_cap).mkdir(exist_ok=True)\n",
    "                    caminho_md = Path(caminho_pasta) / f\"{id_pasta}.md\"\n",
    "                    criar_stub(caminho_md, titulo, nivel)\n",
    "\n",
    "                    if subitens:  # Se houver subseções\n",
    "                        processar_nivel(nivel + 1, subitens, prefixo=f\"SEC_{i:02}\", caminho_atual=caminho_pasta)\n",
    "            else:\n",
    "                # Caso seja apenas uma string (seção sem subseções)\n",
    "                id_pasta = f\"{prefixo}_{i:02}\"\n",
    "                caminho_pasta = Path(caminho_atual) / id_pasta\n",
    "                Path(caminho_pasta).mkdir(exist_ok=True)\n",
    "\n",
    "                caminho_md = Path(caminho_pasta) / f\"{id_pasta}.md\"\n",
    "                criar_stub(caminho_md, item, nivel)\n",
    "    \n",
    "    processar_nivel(1, livro)\n",
    "\n"
   ]
  },
  {
   "cell_type": "code",
   "execution_count": 63,
   "id": "fe9216cf",
   "metadata": {},
   "outputs": [],
   "source": [
    "\n",
    "def gerar_toc_yaml(base_dir: Path, root: str, toc_filename: Path = Path(\"_toc.yaml\")):\n",
    "    \"\"\"\n",
    "    Gera um arquivo _toc.yaml compatível com Jupyter Book.\n",
    "\n",
    "    Args:\n",
    "        base_dir (Path): Diretório base onde está a estrutura de capítulos.\n",
    "        root (str): Caminho (sem extensão) para o arquivo raiz do livro (ex: \"CAP_01/CAP_01\").\n",
    "        toc_filename (Path): Caminho para o arquivo _toc.yaml a ser gerado.\n",
    "    \"\"\"\n",
    "\n",
    "    def processar_pasta(pasta: Path):\n",
    "        entradas = []\n",
    "        for subpasta in sorted(pasta.iterdir()):\n",
    "            if subpasta.is_dir():\n",
    "                files = sorted([file for file in subpasta.glob(\"*.*\") if file.suffix in {\".md\", \".ipynb\"}])\n",
    "                for file in files:\n",
    "                    rel_path = file.relative_to(base_dir).name\n",
    "                    entry = {\"file\": rel_path}\n",
    "                \n",
    "                # Recursivamente processa subpastas\n",
    "                subpastas = [p for p in subpasta.iterdir() if p.is_dir()]\n",
    "                if subpastas and len(files) > 0:\n",
    "                    entry[\"sections\"] = processar_pasta(subpasta)\n",
    "                    entradas.append(entry)\n",
    "        return entradas\n",
    "\n",
    "    toc = {\n",
    "        \"format\": \"jb-book\",\n",
    "        \"root\": root,\n",
    "        \"sections\": processar_pasta(base_dir)\n",
    "    }\n",
    "\n",
    "    toc_filename = Path(toc_filename)\n",
    "    with toc_filename.open(\"w\", encoding=\"utf-8\") as f:\n",
    "        yaml.dump(toc, f, allow_unicode=True, sort_keys=False)\n",
    "\n",
    "    print(f\"Arquivo '{toc_filename}' gerado com sucesso.\")\n",
    "\n"
   ]
  },
  {
   "cell_type": "code",
   "execution_count": 64,
   "id": "93a7a94d",
   "metadata": {},
   "outputs": [],
   "source": [
    "with open(structure_file) as file:\n",
    "    estrutura = yaml.safe_load(file)\n",
    "criar_estrutura(estrutura['livro'], base_dir=\"./content/\")"
   ]
  },
  {
   "cell_type": "code",
   "execution_count": 65,
   "id": "065b2f0c",
   "metadata": {},
   "outputs": [
    {
     "name": "stdout",
     "output_type": "stream",
     "text": [
      "Arquivo '_toc.yaml' gerado com sucesso.\n"
     ]
    }
   ],
   "source": [
    "gerar_toc_yaml(\n",
    "    base_dir=Path(\"./content/\"),\n",
    "    root=\"CAP_01/CAP_01\",\n",
    "    toc_filename=Path(\"_toc.yaml\")\n",
    ")"
   ]
  },
  {
   "cell_type": "code",
   "execution_count": 30,
   "id": "8eeef4df",
   "metadata": {},
   "outputs": [],
   "source": [
    "base_dir=Path(\"./\")\n",
    "root=\"CAP_01/CAP_01\"\n",
    "def processar_pasta(pasta: Path):\n",
    "    entradas = []\n",
    "    entry = {}\n",
    "    for subpasta in sorted(pasta.iterdir()):\n",
    "        if subpasta.is_dir():\n",
    "            files = sorted([file for file in subpasta.glob(\"*.*\") if file.suffix in {\".md\", \".ipynb\"}])\n",
    "            for file in files:\n",
    "                rel_path = file.relative_to(base_dir).name\n",
    "                entry = {\"file\": rel_path}\n",
    "\n",
    "            # Recursivamente processa subpastas\n",
    "            subpastas = [p for p in subpasta.iterdir() if p.is_dir()]\n",
    "            if subpastas:\n",
    "                entry[\"sections\"] = processar_pasta(subpasta)\n",
    "\n",
    "            entradas.append(entry)\n",
    "    return entradas"
   ]
  },
  {
   "cell_type": "code",
   "execution_count": 31,
   "id": "1885e632",
   "metadata": {},
   "outputs": [
    {
     "data": {
      "text/plain": [
       "PosixPath('.')"
      ]
     },
     "execution_count": 31,
     "metadata": {},
     "output_type": "execute_result"
    }
   ],
   "source": [
    "base_dir"
   ]
  },
  {
   "cell_type": "code",
   "execution_count": 32,
   "id": "b0b2c1fc",
   "metadata": {},
   "outputs": [
    {
     "data": {
      "text/plain": [
       "[{'file': 'CAP_01.md', 'sections': [{}]},\n",
       " {'file': 'CAP_02.md', 'sections': [{}]},\n",
       " {'file': 'CAP_03.md',\n",
       "  'sections': [{},\n",
       "   {'file': 'SEC_03_01.md', 'sections': [{}]},\n",
       "   {'file': 'SEC_03_02.md', 'sections': [{}]},\n",
       "   {'file': 'SEC_03_03.md', 'sections': [{}]},\n",
       "   {'file': 'SEC_03_04.md', 'sections': [{}]},\n",
       "   {'file': 'SEC_03_05.md',\n",
       "    'sections': [{},\n",
       "     {'file': 'SEC_05_01.md', 'sections': [{}]},\n",
       "     {'file': 'SEC_05_02.md', 'sections': [{}]},\n",
       "     {'file': 'SEC_05_03.md', 'sections': [{}]},\n",
       "     {'file': 'SEC_05_04.md', 'sections': [{}]}]},\n",
       "   {'file': 'SEC_03_06.md', 'sections': [{}]}]},\n",
       " {'file': 'CAP_04.md',\n",
       "  'sections': [{},\n",
       "   {'file': 'SEC_04_01.md', 'sections': [{}]},\n",
       "   {'file': 'SEC_04_02.md',\n",
       "    'sections': [{'file': 'SEC_02_01.md', 'sections': [{}]},\n",
       "     {'file': 'SEC_02_02.md', 'sections': [{}]},\n",
       "     {'file': 'SEC_02_02.md', 'sections': [{}]}]},\n",
       "   {'file': 'SEC_04_03.md', 'sections': [{}]},\n",
       "   {'file': 'SEC_04_04.md',\n",
       "    'sections': [{'file': 'SEC_04_01.md', 'sections': [{}]},\n",
       "     {'file': 'SEC_04_02.md', 'sections': [{}]},\n",
       "     {'file': 'SEC_04_02.md', 'sections': [{}]}]},\n",
       "   {'file': 'SEC_04_05.md',\n",
       "    'sections': [{},\n",
       "     {'file': 'SEC_05_01.md', 'sections': [{}]},\n",
       "     {'file': 'SEC_05_02.md', 'sections': [{}]},\n",
       "     {'file': 'SEC_05_03.md', 'sections': [{}]},\n",
       "     {'file': 'SEC_05_04.md', 'sections': [{}]}]},\n",
       "   {'file': 'SEC_04_06.md', 'sections': [{}]},\n",
       "   {'file': 'SEC_04_07.md', 'sections': [{}]}]},\n",
       " {'file': 'CAP_05.md', 'sections': [{}]},\n",
       " {'file': 'CAP_06.md', 'sections': [{}]},\n",
       " {'file': 'CAP_07.md', 'sections': [{}]},\n",
       " {'file': 'CAP_08.md', 'sections': [{}]},\n",
       " {'file': 'CAP_09.md', 'sections': [{}]},\n",
       " {'file': 'CAP_10.md', 'sections': [{}]},\n",
       " {'file': 'CAP_11.md', 'sections': [{}]},\n",
       " {'file': 'CAP_12.md', 'sections': [{}]},\n",
       " {'file': 'CAP_13.md', 'sections': [{}]},\n",
       " {'file': 'CAP_14.md', 'sections': [{}]},\n",
       " {'file': 'CAP_15.md', 'sections': [{}]}]"
      ]
     },
     "execution_count": 32,
     "metadata": {},
     "output_type": "execute_result"
    }
   ],
   "source": [
    "processar_pasta(base_dir)"
   ]
  },
  {
   "cell_type": "code",
   "execution_count": 6,
   "id": "d169bfb1",
   "metadata": {},
   "outputs": [],
   "source": [
    "from pathlib import Path\n",
    "base_dir = Path(\"../content/\")\n",
    "root = \"index.md\"\n",
    "files = sorted([file.relative_to(base_dir) for file in base_dir.rglob(\"**/*.md\") if (file.suffix in [\".md\", \".ipynb\"]) and (file.name != root) and (\"QUADROS\" not in str(file))])"
   ]
  },
  {
   "cell_type": "code",
   "execution_count": 7,
   "id": "b62f38ab",
   "metadata": {},
   "outputs": [
    {
     "data": {
      "text/plain": [
       "[PosixPath('CAP_01/CAP_01.md'),\n",
       " PosixPath('CAP_02/CAP_02.md'),\n",
       " PosixPath('CAP_03/CAP_03.md'),\n",
       " PosixPath('CAP_03/SEC_03_01/SEC_03_01.md'),\n",
       " PosixPath('CAP_03/SEC_03_02/SEC_03_02.md'),\n",
       " PosixPath('CAP_03/SEC_03_03/SEC_03_03.md'),\n",
       " PosixPath('CAP_03/SEC_03_04/SEC_03_04.md'),\n",
       " PosixPath('CAP_03/SEC_03_05/SEC_03_05.md'),\n",
       " PosixPath('CAP_03/SEC_03_05/SEC_05_01/SEC_05_01.md'),\n",
       " PosixPath('CAP_03/SEC_03_05/SEC_05_02/SEC_05_02.md'),\n",
       " PosixPath('CAP_03/SEC_03_05/SEC_05_03/SEC_05_03.md'),\n",
       " PosixPath('CAP_03/SEC_03_05/SEC_05_04/SEC_05_04.md'),\n",
       " PosixPath('CAP_03/SEC_03_06/SEC_03_06.md'),\n",
       " PosixPath('CAP_04/CAP_04.md'),\n",
       " PosixPath('CAP_04/SEC_04_02/SEC_02_01/SEC_02_01.md'),\n",
       " PosixPath('CAP_04/SEC_04_02/SEC_02_02/03-distribuicoes.md'),\n",
       " PosixPath('CAP_04/SEC_04_02/SEC_02_02/SEC_02_02.md'),\n",
       " PosixPath('CAP_04/SEC_04_02/SEC_04_02.md'),\n",
       " PosixPath('CAP_04/SEC_04_03/03-01-medidas.md'),\n",
       " PosixPath('CAP_04/SEC_04_03/SEC_04_03.md'),\n",
       " PosixPath('CAP_04/SEC_04_04/04-integral-gaussiana.md'),\n",
       " PosixPath('CAP_04/SEC_04_04/SEC_04_01/SEC_04_01.md'),\n",
       " PosixPath('CAP_04/SEC_04_04/SEC_04_02/05-extensoes.md'),\n",
       " PosixPath('CAP_04/SEC_04_04/SEC_04_02/SEC_04_02.md'),\n",
       " PosixPath('CAP_04/SEC_04_04/SEC_04_04.md'),\n",
       " PosixPath('CAP_04/SEC_04_05/06-funcao-gama.md'),\n",
       " PosixPath('CAP_04/SEC_04_05/SEC_04_05.md'),\n",
       " PosixPath('CAP_04/SEC_04_05/SEC_05_01/SEC_05_01.md'),\n",
       " PosixPath('CAP_04/SEC_04_05/SEC_05_02/SEC_05_02.md'),\n",
       " PosixPath('CAP_04/SEC_04_05/SEC_05_03/SEC_05_03.md'),\n",
       " PosixPath('CAP_04/SEC_04_05/SEC_05_04/07-stirling.md'),\n",
       " PosixPath('CAP_04/SEC_04_05/SEC_05_04/SEC_05_04.md'),\n",
       " PosixPath('CAP_04/SEC_04_06/08-integral-ndimensoes.md'),\n",
       " PosixPath('CAP_04/SEC_04_06/SEC_04_06.md'),\n",
       " PosixPath('CAP_04/SEC_04_07/SEC_04_07.md'),\n",
       " PosixPath('CAP_05/CAP_05.md'),\n",
       " PosixPath('CAP_06/CAP_06.md'),\n",
       " PosixPath('CAP_07/CAP_07.md'),\n",
       " PosixPath('CAP_08/CAP_08.md'),\n",
       " PosixPath('CAP_09/CAP_09.md'),\n",
       " PosixPath('CAP_10/CAP_10.md'),\n",
       " PosixPath('CAP_11/CAP_11.md'),\n",
       " PosixPath('CAP_12/CAP_12.md'),\n",
       " PosixPath('CAP_13/CAP_13.md'),\n",
       " PosixPath('CAP_14/CAP_14.md'),\n",
       " PosixPath('CAP_15/CAP_15.md'),\n",
       " PosixPath('README.md')]"
      ]
     },
     "execution_count": 7,
     "metadata": {},
     "output_type": "execute_result"
    }
   ],
   "source": [
    "files"
   ]
  },
  {
   "cell_type": "code",
   "execution_count": null,
   "id": "c217a08a",
   "metadata": {},
   "outputs": [],
   "source": []
  }
 ],
 "metadata": {
  "kernelspec": {
   "display_name": "LIVROS",
   "language": "python",
   "name": "python3"
  },
  "language_info": {
   "codemirror_mode": {
    "name": "ipython",
    "version": 3
   },
   "file_extension": ".py",
   "mimetype": "text/x-python",
   "name": "python",
   "nbconvert_exporter": "python",
   "pygments_lexer": "ipython3",
   "version": "3.13.3"
  }
 },
 "nbformat": 4,
 "nbformat_minor": 5
}
