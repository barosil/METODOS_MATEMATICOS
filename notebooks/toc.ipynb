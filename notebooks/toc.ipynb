{
 "cells": [
  {
   "cell_type": "code",
   "execution_count": 10,
   "id": "cb74bd52",
   "metadata": {},
   "outputs": [],
   "source": [
    "from pathlib import Path\n",
    "caminho = Path(\"../content/\")\n"
   ]
  },
  {
   "cell_type": "code",
   "execution_count": 11,
   "id": "f6a18e44",
   "metadata": {},
   "outputs": [],
   "source": [
    "def make_toc(entries=None, caminho=caminho):\n",
    "    if entries is None:\n",
    "        entries = {}\n",
    "    level = max(list(entries.keys())) + 1 if entries else 0\n",
    "    itens = []\n",
    "    for _path in sorted(caminho.iterdir()):\n",
    "        if _path.is_file() and _path.suffix in [\".md\", \".ipynb\"]:\n",
    "            rel_path = _path.relative_to(caminho)\n",
    "            itens.append(rel_path.as_posix())\n",
    "            entries.update({level: itens})\n",
    "        elif _path.is_dir():\n",
    "            entries = make_toc(entries, _path)\n",
    "    return entries\n",
    "    "
   ]
  },
  {
   "cell_type": "code",
   "execution_count": 35,
   "id": "c91e0b07",
   "metadata": {},
   "outputs": [],
   "source": [
    "def make_toc_file(root=\"index.md\", caminho=\"../content\"):\n",
    "\n",
    "    entries = [\"format: jb-book\\n\",\n",
    "            f\"root: {root}.\\n\",\n",
    "    ]\n",
    "    files = sorted([file.relative_to(caminho) for file in caminho.glob(\"**/*.md\") if (file.suffix in [\".md\", \".ipynb\"]) and file.name != root])\n",
    "    _level = 0\n",
    "    for file in files:\n",
    "        level = len(list(file.parents)) - 1\n",
    "        if level > _level:\n",
    "            entry = f\"{' ' * _level} section:\\n\"\n",
    "            entries.append(entry)\n",
    "        entry = f\"{' ' * level} file: {str(file)}\\n\"\n",
    "        entries.append(entry)\n",
    "        _level = level\n",
    "        \n",
    "    filename = caminho / \"toc.yml\"\n",
    "    with open(filename, \"w\", encoding=\"utf-8\") as f:\n",
    "        f.writelines(entries)\n",
    "        "
   ]
  },
  {
   "cell_type": "code",
   "execution_count": 36,
   "id": "cca31cc6",
   "metadata": {},
   "outputs": [],
   "source": [
    "make_toc_file(root=\"index.md\", caminho=caminho)"
   ]
  },
  {
   "cell_type": "code",
   "execution_count": 37,
   "id": "b59fa9ae",
   "metadata": {},
   "outputs": [],
   "source": [
    "files = sorted([file.relative_to(caminho) for file in caminho.glob(\"**/*.md\") if (file.suffix in [\".md\", \".ipynb\"])])"
   ]
  },
  {
   "cell_type": "code",
   "execution_count": 40,
   "id": "a4847017",
   "metadata": {},
   "outputs": [
    {
     "data": {
      "text/plain": [
       "PosixPath('CAP_01/CAP_01')"
      ]
     },
     "execution_count": 40,
     "metadata": {},
     "output_type": "execute_result"
    }
   ],
   "source": [
    "files[0].with_suffix((\"\"))"
   ]
  },
  {
   "cell_type": "code",
   "execution_count": 2,
   "id": "c1a59b34",
   "metadata": {},
   "outputs": [
    {
     "data": {
      "text/plain": [
       "' '"
      ]
     },
     "execution_count": 2,
     "metadata": {},
     "output_type": "execute_result"
    }
   ],
   "source": [
    "\" \" * 1"
   ]
  },
  {
   "cell_type": "code",
   "execution_count": null,
   "id": "3967972e",
   "metadata": {},
   "outputs": [],
   "source": []
  }
 ],
 "metadata": {
  "kernelspec": {
   "display_name": "LIVROS",
   "language": "python",
   "name": "python3"
  },
  "language_info": {
   "codemirror_mode": {
    "name": "ipython",
    "version": 3
   },
   "file_extension": ".py",
   "mimetype": "text/x-python",
   "name": "python",
   "nbconvert_exporter": "python",
   "pygments_lexer": "ipython3",
   "version": "3.13.3"
  }
 },
 "nbformat": 4,
 "nbformat_minor": 5
}
