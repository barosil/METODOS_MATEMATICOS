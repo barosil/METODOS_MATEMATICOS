{
 "cells": [
  {
   "cell_type": "markdown",
   "id": "6d449795",
   "metadata": {},
   "source": [
    "# Distribuições de Probabilidade"
   ]
  },
  {
   "cell_type": "markdown",
   "id": "82131a1a",
   "metadata": {},
   "source": [
    ":::{admonition} Problema em Contexto\n",
    ":class: note\n",
    "O tabuleiro de Galson é uma máquina inventada por Francis Galton que demonstra o teorema central do limite. Tratam-se de bolinhas que são jogadas em uma pista com uma obstáculos que as fazem ir para a direita ou para a esquerda, sendo ao final coletadas em um número de colunas verticais.\n",
    "\n",
    "::::::{figure} ./imgs/content/cap-01/galton_board.gif\n",
    "---\n",
    "height: 300px\n",
    "name: directive-fig\n",
    "---\n",
    "Tabuleiro de Galton\n",
    ":::"
   ]
  },
  {
   "cell_type": "markdown",
   "id": "d41326b5",
   "metadata": {},
   "source": [
    "```{admonition} Problema em Contexto\n",
    ":class: note\n",
    "O tabuleiro de Galson é uma máquina inventada por Francis Galton que demonstra o teorema central do limite. Tratam-se de bolinhas que são jogadas em uma pista com uma obstáculos que as fazem ir para a direita ou para a esquerda, sendo ao final coletadas em um número de colunas verticais.\n",
    "\n",
    "``````{figure} ./imgs/content/cap-01/galton_board.gif\n",
    "---\n",
    "height: 300px\n",
    "name: directive-fig\n",
    "---\n",
    "Tabuleiro de Galton\n",
    "``````\n",
    "```"
   ]
  },
  {
   "cell_type": "markdown",
   "id": "88ab1e4c",
   "metadata": {},
   "source": []
  }
 ],
 "metadata": {
  "kernelspec": {
   "display_name": "LIVROS",
   "language": "python",
   "name": "python3"
  },
  "language_info": {
   "codemirror_mode": {
    "name": "ipython",
    "version": 3
   },
   "file_extension": ".py",
   "mimetype": "text/x-python",
   "name": "python",
   "nbconvert_exporter": "python",
   "pygments_lexer": "ipython3",
   "version": "3.13.3"
  }
 },
 "nbformat": 4,
 "nbformat_minor": 5
}
